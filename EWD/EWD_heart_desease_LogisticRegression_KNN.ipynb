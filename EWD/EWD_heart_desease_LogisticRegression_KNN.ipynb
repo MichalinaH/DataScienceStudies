{
  "nbformat": 4,
  "nbformat_minor": 0,
  "metadata": {
    "colab": {
      "provenance": [],
      "authorship_tag": "ABX9TyPVUmXYbUZmBXdzTU/BwW/V",
      "include_colab_link": true
    },
    "kernelspec": {
      "name": "python3",
      "display_name": "Python 3"
    },
    "language_info": {
      "name": "python"
    }
  },
  "cells": [
    {
      "cell_type": "markdown",
      "metadata": {
        "id": "view-in-github",
        "colab_type": "text"
      },
      "source": [
        "<a href=\"https://colab.research.google.com/github/MichalinaH/DataScienceStudies/blob/main/EWD/EWD_heart_desease_LogisticRegression_KNN.ipynb\" target=\"_parent\"><img src=\"https://colab.research.google.com/assets/colab-badge.svg\" alt=\"Open In Colab\"/></a>"
      ]
    },
    {
      "cell_type": "markdown",
      "source": [
        "Zostały zrealizowane wszystkie punkty z zadania "
      ],
      "metadata": {
        "id": "32hVofj1nP9F"
      }
    },
    {
      "cell_type": "code",
      "execution_count": null,
      "metadata": {
        "id": "S5jpNjpNANef"
      },
      "outputs": [],
      "source": [
        "import pandas as pd\n",
        "import matplotlib.pyplot as plt\n",
        "import numpy as np\n",
        "\n",
        "%matplotlib inline\n",
        "\n",
        "from sklearn.linear_model import LogisticRegression\n",
        "from sklearn.neighbors import KNeighborsClassifier as knn\n",
        "from sklearn.metrics import confusion_matrix,accuracy_score,f1_score,roc_auc_score,roc_curve\n",
        "\n",
        "from sklearn.preprocessing import StandardScaler\n",
        "from sklearn import metrics"
      ]
    },
    {
      "cell_type": "markdown",
      "source": [
        "Wgranie zbioru \"heart-disease\""
      ],
      "metadata": {
        "id": "ITnZW4HsCzqA"
      }
    },
    {
      "cell_type": "code",
      "source": [
        "df = pd.read_csv(\"heart-disease.data\") \n",
        "df"
      ],
      "metadata": {
        "colab": {
          "base_uri": "https://localhost:8080/",
          "height": 419
        },
        "id": "6FF67PzpAo4A",
        "outputId": "34c901e3-38b4-42bb-acc3-7a552fd3cacb"
      },
      "execution_count": null,
      "outputs": [
        {
          "output_type": "execute_result",
          "data": {
            "text/plain": [
              "     age  sex  cp  trestbps  chol  fbs  restecg  thalach  exang  oldpeak  \\\n",
              "0     63    1   3       145   233    1        0      150      0      2.3   \n",
              "1     37    1   2       130   250    0        1      187      0      3.5   \n",
              "2     41    0   1       130   204    0        0      172      0      1.4   \n",
              "3     56    1   1       120   236    0        1      178      0      0.8   \n",
              "4     57    0   0       120   354    0        1      163      1      0.6   \n",
              "..   ...  ...  ..       ...   ...  ...      ...      ...    ...      ...   \n",
              "298   57    0   0       140   241    0        1      123      1      0.2   \n",
              "299   45    1   3       110   264    0        1      132      0      1.2   \n",
              "300   68    1   0       144   193    1        1      141      0      3.4   \n",
              "301   57    1   0       130   131    0        1      115      1      1.2   \n",
              "302   57    0   1       130   236    0        0      174      0      0.0   \n",
              "\n",
              "     slope  ca  thal  target  \n",
              "0        0   0     1       1  \n",
              "1        0   0     2       1  \n",
              "2        2   0     2       1  \n",
              "3        2   0     2       1  \n",
              "4        2   0     2       1  \n",
              "..     ...  ..   ...     ...  \n",
              "298      1   0     3       0  \n",
              "299      1   0     3       0  \n",
              "300      1   2     3       0  \n",
              "301      1   1     3       0  \n",
              "302      1   1     2       0  \n",
              "\n",
              "[303 rows x 14 columns]"
            ],
            "text/html": [
              "\n",
              "  <div id=\"df-5ac89ca4-a847-4438-a9bf-80e73c74da68\">\n",
              "    <div class=\"colab-df-container\">\n",
              "      <div>\n",
              "<style scoped>\n",
              "    .dataframe tbody tr th:only-of-type {\n",
              "        vertical-align: middle;\n",
              "    }\n",
              "\n",
              "    .dataframe tbody tr th {\n",
              "        vertical-align: top;\n",
              "    }\n",
              "\n",
              "    .dataframe thead th {\n",
              "        text-align: right;\n",
              "    }\n",
              "</style>\n",
              "<table border=\"1\" class=\"dataframe\">\n",
              "  <thead>\n",
              "    <tr style=\"text-align: right;\">\n",
              "      <th></th>\n",
              "      <th>age</th>\n",
              "      <th>sex</th>\n",
              "      <th>cp</th>\n",
              "      <th>trestbps</th>\n",
              "      <th>chol</th>\n",
              "      <th>fbs</th>\n",
              "      <th>restecg</th>\n",
              "      <th>thalach</th>\n",
              "      <th>exang</th>\n",
              "      <th>oldpeak</th>\n",
              "      <th>slope</th>\n",
              "      <th>ca</th>\n",
              "      <th>thal</th>\n",
              "      <th>target</th>\n",
              "    </tr>\n",
              "  </thead>\n",
              "  <tbody>\n",
              "    <tr>\n",
              "      <th>0</th>\n",
              "      <td>63</td>\n",
              "      <td>1</td>\n",
              "      <td>3</td>\n",
              "      <td>145</td>\n",
              "      <td>233</td>\n",
              "      <td>1</td>\n",
              "      <td>0</td>\n",
              "      <td>150</td>\n",
              "      <td>0</td>\n",
              "      <td>2.3</td>\n",
              "      <td>0</td>\n",
              "      <td>0</td>\n",
              "      <td>1</td>\n",
              "      <td>1</td>\n",
              "    </tr>\n",
              "    <tr>\n",
              "      <th>1</th>\n",
              "      <td>37</td>\n",
              "      <td>1</td>\n",
              "      <td>2</td>\n",
              "      <td>130</td>\n",
              "      <td>250</td>\n",
              "      <td>0</td>\n",
              "      <td>1</td>\n",
              "      <td>187</td>\n",
              "      <td>0</td>\n",
              "      <td>3.5</td>\n",
              "      <td>0</td>\n",
              "      <td>0</td>\n",
              "      <td>2</td>\n",
              "      <td>1</td>\n",
              "    </tr>\n",
              "    <tr>\n",
              "      <th>2</th>\n",
              "      <td>41</td>\n",
              "      <td>0</td>\n",
              "      <td>1</td>\n",
              "      <td>130</td>\n",
              "      <td>204</td>\n",
              "      <td>0</td>\n",
              "      <td>0</td>\n",
              "      <td>172</td>\n",
              "      <td>0</td>\n",
              "      <td>1.4</td>\n",
              "      <td>2</td>\n",
              "      <td>0</td>\n",
              "      <td>2</td>\n",
              "      <td>1</td>\n",
              "    </tr>\n",
              "    <tr>\n",
              "      <th>3</th>\n",
              "      <td>56</td>\n",
              "      <td>1</td>\n",
              "      <td>1</td>\n",
              "      <td>120</td>\n",
              "      <td>236</td>\n",
              "      <td>0</td>\n",
              "      <td>1</td>\n",
              "      <td>178</td>\n",
              "      <td>0</td>\n",
              "      <td>0.8</td>\n",
              "      <td>2</td>\n",
              "      <td>0</td>\n",
              "      <td>2</td>\n",
              "      <td>1</td>\n",
              "    </tr>\n",
              "    <tr>\n",
              "      <th>4</th>\n",
              "      <td>57</td>\n",
              "      <td>0</td>\n",
              "      <td>0</td>\n",
              "      <td>120</td>\n",
              "      <td>354</td>\n",
              "      <td>0</td>\n",
              "      <td>1</td>\n",
              "      <td>163</td>\n",
              "      <td>1</td>\n",
              "      <td>0.6</td>\n",
              "      <td>2</td>\n",
              "      <td>0</td>\n",
              "      <td>2</td>\n",
              "      <td>1</td>\n",
              "    </tr>\n",
              "    <tr>\n",
              "      <th>...</th>\n",
              "      <td>...</td>\n",
              "      <td>...</td>\n",
              "      <td>...</td>\n",
              "      <td>...</td>\n",
              "      <td>...</td>\n",
              "      <td>...</td>\n",
              "      <td>...</td>\n",
              "      <td>...</td>\n",
              "      <td>...</td>\n",
              "      <td>...</td>\n",
              "      <td>...</td>\n",
              "      <td>...</td>\n",
              "      <td>...</td>\n",
              "      <td>...</td>\n",
              "    </tr>\n",
              "    <tr>\n",
              "      <th>298</th>\n",
              "      <td>57</td>\n",
              "      <td>0</td>\n",
              "      <td>0</td>\n",
              "      <td>140</td>\n",
              "      <td>241</td>\n",
              "      <td>0</td>\n",
              "      <td>1</td>\n",
              "      <td>123</td>\n",
              "      <td>1</td>\n",
              "      <td>0.2</td>\n",
              "      <td>1</td>\n",
              "      <td>0</td>\n",
              "      <td>3</td>\n",
              "      <td>0</td>\n",
              "    </tr>\n",
              "    <tr>\n",
              "      <th>299</th>\n",
              "      <td>45</td>\n",
              "      <td>1</td>\n",
              "      <td>3</td>\n",
              "      <td>110</td>\n",
              "      <td>264</td>\n",
              "      <td>0</td>\n",
              "      <td>1</td>\n",
              "      <td>132</td>\n",
              "      <td>0</td>\n",
              "      <td>1.2</td>\n",
              "      <td>1</td>\n",
              "      <td>0</td>\n",
              "      <td>3</td>\n",
              "      <td>0</td>\n",
              "    </tr>\n",
              "    <tr>\n",
              "      <th>300</th>\n",
              "      <td>68</td>\n",
              "      <td>1</td>\n",
              "      <td>0</td>\n",
              "      <td>144</td>\n",
              "      <td>193</td>\n",
              "      <td>1</td>\n",
              "      <td>1</td>\n",
              "      <td>141</td>\n",
              "      <td>0</td>\n",
              "      <td>3.4</td>\n",
              "      <td>1</td>\n",
              "      <td>2</td>\n",
              "      <td>3</td>\n",
              "      <td>0</td>\n",
              "    </tr>\n",
              "    <tr>\n",
              "      <th>301</th>\n",
              "      <td>57</td>\n",
              "      <td>1</td>\n",
              "      <td>0</td>\n",
              "      <td>130</td>\n",
              "      <td>131</td>\n",
              "      <td>0</td>\n",
              "      <td>1</td>\n",
              "      <td>115</td>\n",
              "      <td>1</td>\n",
              "      <td>1.2</td>\n",
              "      <td>1</td>\n",
              "      <td>1</td>\n",
              "      <td>3</td>\n",
              "      <td>0</td>\n",
              "    </tr>\n",
              "    <tr>\n",
              "      <th>302</th>\n",
              "      <td>57</td>\n",
              "      <td>0</td>\n",
              "      <td>1</td>\n",
              "      <td>130</td>\n",
              "      <td>236</td>\n",
              "      <td>0</td>\n",
              "      <td>0</td>\n",
              "      <td>174</td>\n",
              "      <td>0</td>\n",
              "      <td>0.0</td>\n",
              "      <td>1</td>\n",
              "      <td>1</td>\n",
              "      <td>2</td>\n",
              "      <td>0</td>\n",
              "    </tr>\n",
              "  </tbody>\n",
              "</table>\n",
              "<p>303 rows × 14 columns</p>\n",
              "</div>\n",
              "      <button class=\"colab-df-convert\" onclick=\"convertToInteractive('df-5ac89ca4-a847-4438-a9bf-80e73c74da68')\"\n",
              "              title=\"Convert this dataframe to an interactive table.\"\n",
              "              style=\"display:none;\">\n",
              "        \n",
              "  <svg xmlns=\"http://www.w3.org/2000/svg\" height=\"24px\"viewBox=\"0 0 24 24\"\n",
              "       width=\"24px\">\n",
              "    <path d=\"M0 0h24v24H0V0z\" fill=\"none\"/>\n",
              "    <path d=\"M18.56 5.44l.94 2.06.94-2.06 2.06-.94-2.06-.94-.94-2.06-.94 2.06-2.06.94zm-11 1L8.5 8.5l.94-2.06 2.06-.94-2.06-.94L8.5 2.5l-.94 2.06-2.06.94zm10 10l.94 2.06.94-2.06 2.06-.94-2.06-.94-.94-2.06-.94 2.06-2.06.94z\"/><path d=\"M17.41 7.96l-1.37-1.37c-.4-.4-.92-.59-1.43-.59-.52 0-1.04.2-1.43.59L10.3 9.45l-7.72 7.72c-.78.78-.78 2.05 0 2.83L4 21.41c.39.39.9.59 1.41.59.51 0 1.02-.2 1.41-.59l7.78-7.78 2.81-2.81c.8-.78.8-2.07 0-2.86zM5.41 20L4 18.59l7.72-7.72 1.47 1.35L5.41 20z\"/>\n",
              "  </svg>\n",
              "      </button>\n",
              "      \n",
              "  <style>\n",
              "    .colab-df-container {\n",
              "      display:flex;\n",
              "      flex-wrap:wrap;\n",
              "      gap: 12px;\n",
              "    }\n",
              "\n",
              "    .colab-df-convert {\n",
              "      background-color: #E8F0FE;\n",
              "      border: none;\n",
              "      border-radius: 50%;\n",
              "      cursor: pointer;\n",
              "      display: none;\n",
              "      fill: #1967D2;\n",
              "      height: 32px;\n",
              "      padding: 0 0 0 0;\n",
              "      width: 32px;\n",
              "    }\n",
              "\n",
              "    .colab-df-convert:hover {\n",
              "      background-color: #E2EBFA;\n",
              "      box-shadow: 0px 1px 2px rgba(60, 64, 67, 0.3), 0px 1px 3px 1px rgba(60, 64, 67, 0.15);\n",
              "      fill: #174EA6;\n",
              "    }\n",
              "\n",
              "    [theme=dark] .colab-df-convert {\n",
              "      background-color: #3B4455;\n",
              "      fill: #D2E3FC;\n",
              "    }\n",
              "\n",
              "    [theme=dark] .colab-df-convert:hover {\n",
              "      background-color: #434B5C;\n",
              "      box-shadow: 0px 1px 3px 1px rgba(0, 0, 0, 0.15);\n",
              "      filter: drop-shadow(0px 1px 2px rgba(0, 0, 0, 0.3));\n",
              "      fill: #FFFFFF;\n",
              "    }\n",
              "  </style>\n",
              "\n",
              "      <script>\n",
              "        const buttonEl =\n",
              "          document.querySelector('#df-5ac89ca4-a847-4438-a9bf-80e73c74da68 button.colab-df-convert');\n",
              "        buttonEl.style.display =\n",
              "          google.colab.kernel.accessAllowed ? 'block' : 'none';\n",
              "\n",
              "        async function convertToInteractive(key) {\n",
              "          const element = document.querySelector('#df-5ac89ca4-a847-4438-a9bf-80e73c74da68');\n",
              "          const dataTable =\n",
              "            await google.colab.kernel.invokeFunction('convertToInteractive',\n",
              "                                                     [key], {});\n",
              "          if (!dataTable) return;\n",
              "\n",
              "          const docLinkHtml = 'Like what you see? Visit the ' +\n",
              "            '<a target=\"_blank\" href=https://colab.research.google.com/notebooks/data_table.ipynb>data table notebook</a>'\n",
              "            + ' to learn more about interactive tables.';\n",
              "          element.innerHTML = '';\n",
              "          dataTable['output_type'] = 'display_data';\n",
              "          await google.colab.output.renderOutput(dataTable, element);\n",
              "          const docLink = document.createElement('div');\n",
              "          docLink.innerHTML = docLinkHtml;\n",
              "          element.appendChild(docLink);\n",
              "        }\n",
              "      </script>\n",
              "    </div>\n",
              "  </div>\n",
              "  "
            ]
          },
          "metadata": {},
          "execution_count": 2
        }
      ]
    },
    {
      "cell_type": "markdown",
      "source": [
        "# Faza 3: Eksploracja \n",
        "\n"
      ],
      "metadata": {
        "id": "dKVBAphGCJu4"
      }
    },
    {
      "cell_type": "markdown",
      "source": [
        "Braki w danych \n",
        "\n",
        "Sprawdzenie czy są wartości null"
      ],
      "metadata": {
        "id": "CXrxQXixDQF2"
      }
    },
    {
      "cell_type": "code",
      "source": [
        "print(df.isnull().sum())"
      ],
      "metadata": {
        "colab": {
          "base_uri": "https://localhost:8080/"
        },
        "id": "p3QQWwnMC8yh",
        "outputId": "b1a457a2-7ad2-472e-bc23-d4a654da02a1"
      },
      "execution_count": null,
      "outputs": [
        {
          "output_type": "stream",
          "name": "stdout",
          "text": [
            "age         0\n",
            "sex         0\n",
            "cp          0\n",
            "trestbps    0\n",
            "chol        0\n",
            "fbs         0\n",
            "restecg     0\n",
            "thalach     0\n",
            "exang       0\n",
            "oldpeak     0\n",
            "slope       0\n",
            "ca          0\n",
            "thal        0\n",
            "target      0\n",
            "dtype: int64\n"
          ]
        }
      ]
    },
    {
      "cell_type": "markdown",
      "source": [
        "Sprawdzenie czy są wartości NaN"
      ],
      "metadata": {
        "id": "kg9D7C7QEiim"
      }
    },
    {
      "cell_type": "code",
      "source": [
        "print(df.isna().sum())"
      ],
      "metadata": {
        "colab": {
          "base_uri": "https://localhost:8080/"
        },
        "id": "nA15jYD0ET05",
        "outputId": "e03317b5-bfff-4d00-f4f7-04dd29b712c1"
      },
      "execution_count": null,
      "outputs": [
        {
          "output_type": "stream",
          "name": "stdout",
          "text": [
            "age         0\n",
            "sex         0\n",
            "cp          0\n",
            "trestbps    0\n",
            "chol        0\n",
            "fbs         0\n",
            "restecg     0\n",
            "thalach     0\n",
            "exang       0\n",
            "oldpeak     0\n",
            "slope       0\n",
            "ca          0\n",
            "thal        0\n",
            "target      0\n",
            "dtype: int64\n"
          ]
        }
      ]
    },
    {
      "cell_type": "markdown",
      "source": [
        "Wypisanie wszystkich wartości z df w celu zweryfikowania ich poprawności "
      ],
      "metadata": {
        "id": "4fhmu77rFnOL"
      }
    },
    {
      "cell_type": "code",
      "source": [
        "for col in df.columns:\n",
        "  print(col)\n",
        "  print(np.sort(pd.unique(df[col])))"
      ],
      "metadata": {
        "colab": {
          "base_uri": "https://localhost:8080/"
        },
        "id": "9QAmDunjEmxQ",
        "outputId": "4451f1c2-d5c3-43ad-99ba-026763c1c902"
      },
      "execution_count": null,
      "outputs": [
        {
          "output_type": "stream",
          "name": "stdout",
          "text": [
            "age\n",
            "[29 34 35 37 38 39 40 41 42 43 44 45 46 47 48 49 50 51 52 53 54 55 56 57\n",
            " 58 59 60 61 62 63 64 65 66 67 68 69 70 71 74 76 77]\n",
            "sex\n",
            "[0 1]\n",
            "cp\n",
            "[0 1 2 3]\n",
            "trestbps\n",
            "[ 94 100 101 102 104 105 106 108 110 112 114 115 117 118 120 122 123 124\n",
            " 125 126 128 129 130 132 134 135 136 138 140 142 144 145 146 148 150 152\n",
            " 154 155 156 160 164 165 170 172 174 178 180 192 200]\n",
            "chol\n",
            "[126 131 141 149 157 160 164 166 167 168 169 172 174 175 176 177 178 180\n",
            " 182 183 184 185 186 187 188 192 193 195 196 197 198 199 200 201 203 204\n",
            " 205 206 207 208 209 210 211 212 213 214 215 216 217 218 219 220 221 222\n",
            " 223 224 225 226 227 228 229 230 231 232 233 234 235 236 237 239 240 241\n",
            " 242 243 244 245 246 247 248 249 250 252 253 254 255 256 257 258 259 260\n",
            " 261 262 263 264 265 266 267 268 269 270 271 273 274 275 276 277 278 281\n",
            " 282 283 284 286 288 289 290 293 294 295 298 299 300 302 303 304 305 306\n",
            " 307 308 309 311 313 315 318 319 321 322 325 326 327 330 335 340 341 342\n",
            " 353 354 360 394 407 409 417 564]\n",
            "fbs\n",
            "[0 1]\n",
            "restecg\n",
            "[0 1 2]\n",
            "thalach\n",
            "[ 71  88  90  95  96  97  99 103 105 106 108 109 111 112 113 114 115 116\n",
            " 117 118 120 121 122 123 124 125 126 127 128 129 130 131 132 133 134 136\n",
            " 137 138 139 140 141 142 143 144 145 146 147 148 149 150 151 152 153 154\n",
            " 155 156 157 158 159 160 161 162 163 164 165 166 167 168 169 170 171 172\n",
            " 173 174 175 177 178 179 180 181 182 184 185 186 187 188 190 192 194 195\n",
            " 202]\n",
            "exang\n",
            "[0 1]\n",
            "oldpeak\n",
            "[0.  0.1 0.2 0.3 0.4 0.5 0.6 0.7 0.8 0.9 1.  1.1 1.2 1.3 1.4 1.5 1.6 1.8\n",
            " 1.9 2.  2.1 2.2 2.3 2.4 2.5 2.6 2.8 2.9 3.  3.1 3.2 3.4 3.5 3.6 3.8 4.\n",
            " 4.2 4.4 5.6 6.2]\n",
            "slope\n",
            "[0 1 2]\n",
            "ca\n",
            "[0 1 2 3 4]\n",
            "thal\n",
            "[0 1 2 3]\n",
            "target\n",
            "[0 1]\n"
          ]
        }
      ]
    },
    {
      "cell_type": "markdown",
      "source": [
        "Propozycje klas\n",
        "gdzie:\n",
        "0 = \"no disease\"\n",
        "1 = \"disease\""
      ],
      "metadata": {
        "id": "VYQ55faaImSM"
      }
    },
    {
      "cell_type": "code",
      "source": [
        "classes = [\"0\", \"1\"]"
      ],
      "metadata": {
        "id": "qFGZ0w9vIkYR"
      },
      "execution_count": null,
      "outputs": []
    },
    {
      "cell_type": "markdown",
      "source": [
        "# Faza 4: przetwarzanie danych "
      ],
      "metadata": {
        "id": "SXxYPVNGKhH5"
      }
    },
    {
      "cell_type": "markdown",
      "source": [
        "Podział na dane treningowe i testowe "
      ],
      "metadata": {
        "id": "NAvLAByiKwDc"
      }
    },
    {
      "cell_type": "code",
      "source": [
        "#podział na dane i atrybut decyzyjny\n",
        "X = df.iloc[:, :-1]\n",
        "y = df.iloc[:, -1]\n",
        "\n",
        "#wygenerowanie losowej permutacji\n",
        "rng = np.random.RandomState(13)\n",
        "permutation = list(range(len(df)))\n",
        "rng.shuffle(permutation)\n",
        "\n",
        "#wielkość zbioru testowego\n",
        "testSize = 50\n",
        "\n",
        "#podział na dane treningowe i testowe \n",
        "Xtrain = X.iloc[permutation[:-testSize]]\n",
        "ytrain = y.iloc[permutation[:-testSize]]\n",
        "\n",
        "Xtest = X.iloc[permutation[-testSize:]]\n",
        "ytest = y.iloc[permutation[-testSize:]]\n"
      ],
      "metadata": {
        "id": "NOeKjj9RKe6a"
      },
      "execution_count": null,
      "outputs": []
    },
    {
      "cell_type": "markdown",
      "source": [
        "Sprawdzenie rozkładu klas train w celu dobrania wartości do losowania permutacji"
      ],
      "metadata": {
        "id": "ghZJxcjVlj8n"
      }
    },
    {
      "cell_type": "code",
      "source": [
        "ytrain.hist()"
      ],
      "metadata": {
        "colab": {
          "base_uri": "https://localhost:8080/",
          "height": 282
        },
        "id": "m5cZoJteO6bu",
        "outputId": "976ab300-fba8-42d7-d438-0cbba221214a"
      },
      "execution_count": null,
      "outputs": [
        {
          "output_type": "execute_result",
          "data": {
            "text/plain": [
              "<matplotlib.axes._subplots.AxesSubplot at 0x7f675ea67ed0>"
            ]
          },
          "metadata": {},
          "execution_count": 11
        },
        {
          "output_type": "display_data",
          "data": {
            "text/plain": [
              "<Figure size 432x288 with 1 Axes>"
            ],
            "image/png": "[encoded data removed]"
          },
          "metadata": {
            "needs_background": "light"
          }
        }
      ]
    },
    {
      "cell_type": "markdown",
      "source": [
        "Sprawdzenie rozkładu klas test"
      ],
      "metadata": {
        "id": "ZOSBPmy4lzBD"
      }
    },
    {
      "cell_type": "code",
      "source": [
        "ytest.hist()"
      ],
      "metadata": {
        "colab": {
          "base_uri": "https://localhost:8080/",
          "height": 282
        },
        "id": "Z4DYtZf0PKdq",
        "outputId": "487278dd-5921-45c1-a5e6-f1da7aec2383"
      },
      "execution_count": null,
      "outputs": [
        {
          "output_type": "execute_result",
          "data": {
            "text/plain": [
              "<matplotlib.axes._subplots.AxesSubplot at 0x7f675e58bf10>"
            ]
          },
          "metadata": {},
          "execution_count": 12
        },
        {
          "output_type": "display_data",
          "data": {
            "text/plain": [
              "<Figure size 432x288 with 1 Axes>"
            ],
            "image/png": "[encoded data removed]"
          },
          "metadata": {
            "needs_background": "light"
          }
        }
      ]
    },
    {
      "cell_type": "markdown",
      "source": [
        "regresja logistyczna"
      ],
      "metadata": {
        "id": "X6_M7JKPQdx7"
      }
    },
    {
      "cell_type": "code",
      "source": [
        "log_reg = LogisticRegression()\n",
        "log_reg.fit(Xtrain,ytrain)\n",
        "\n",
        "ypred = log_reg.predict(Xtest)\n",
        "ypred"
      ],
      "metadata": {
        "colab": {
          "base_uri": "https://localhost:8080/"
        },
        "id": "HbmBF3TfPTQ7",
        "outputId": "5d6bf1f3-7496-45cd-8b88-088d48ed9416"
      },
      "execution_count": null,
      "outputs": [
        {
          "output_type": "stream",
          "name": "stderr",
          "text": [
            "/usr/local/lib/python3.7/dist-packages/sklearn/linear_model/_logistic.py:818: ConvergenceWarning: lbfgs failed to converge (status=1):\n",
            "STOP: TOTAL NO. of ITERATIONS REACHED LIMIT.\n",
            "\n",
            "Increase the number of iterations (max_iter) or scale the data as shown in:\n",
            "    https://scikit-learn.org/stable/modules/preprocessing.html\n",
            "Please also refer to the documentation for alternative solver options:\n",
            "    https://scikit-learn.org/stable/modules/linear_model.html#logistic-regression\n",
            "  extra_warning_msg=_LOGISTIC_SOLVER_CONVERGENCE_MSG,\n"
          ]
        },
        {
          "output_type": "execute_result",
          "data": {
            "text/plain": [
              "array([1, 1, 1, 1, 1, 1, 1, 0, 0, 0, 1, 0, 1, 1, 1, 0, 0, 0, 0, 0, 0, 1,\n",
              "       1, 0, 1, 0, 0, 0, 0, 1, 1, 0, 1, 1, 1, 0, 1, 1, 1, 0, 0, 1, 0, 0,\n",
              "       1, 0, 1, 1, 1, 0])"
            ]
          },
          "metadata": {},
          "execution_count": 13
        }
      ]
    },
    {
      "cell_type": "markdown",
      "source": [
        "macierz omyłek dla regresji logistycznej "
      ],
      "metadata": {
        "id": "wYF30szel9_q"
      }
    },
    {
      "cell_type": "code",
      "source": [
        "conf_mat = confusion_matrix(ytest,ypred)\n",
        "conf_mat"
      ],
      "metadata": {
        "colab": {
          "base_uri": "https://localhost:8080/"
        },
        "id": "Im6fsDPEROfJ",
        "outputId": "c447c25f-17c8-43c9-b7b0-f811436ea6bf"
      },
      "execution_count": null,
      "outputs": [
        {
          "output_type": "execute_result",
          "data": {
            "text/plain": [
              "array([[20,  4],\n",
              "       [ 3, 23]])"
            ]
          },
          "metadata": {},
          "execution_count": 14
        }
      ]
    },
    {
      "cell_type": "markdown",
      "source": [
        "ewaluacja regresji logistycznej"
      ],
      "metadata": {
        "id": "gV7woolGmPVc"
      }
    },
    {
      "cell_type": "code",
      "source": [
        "accuracy = accuracy_score(ytest,ypred)\n",
        "accuracy"
      ],
      "metadata": {
        "colab": {
          "base_uri": "https://localhost:8080/"
        },
        "id": "cHwqkCzxSCOZ",
        "outputId": "c9093763-fd85-47eb-b23c-212bcf594ccb"
      },
      "execution_count": null,
      "outputs": [
        {
          "output_type": "execute_result",
          "data": {
            "text/plain": [
              "0.86"
            ]
          },
          "metadata": {},
          "execution_count": 15
        }
      ]
    },
    {
      "cell_type": "markdown",
      "source": [
        "Model knn dla k=28 (wartość k zostałą dobrana po analizie wykresu znajdującego się poniżej)"
      ],
      "metadata": {
        "id": "GbZPpBhVmgW2"
      }
    },
    {
      "cell_type": "code",
      "source": [
        "model = knn(28)\n",
        "model.fit(Xtrain,ytrain)"
      ],
      "metadata": {
        "colab": {
          "base_uri": "https://localhost:8080/"
        },
        "id": "fvCpnVg-hFPw",
        "outputId": "0b3d408e-5373-46dd-ddf9-bf6414ab754a"
      },
      "execution_count": null,
      "outputs": [
        {
          "output_type": "execute_result",
          "data": {
            "text/plain": [
              "KNeighborsClassifier(n_neighbors=28)"
            ]
          },
          "metadata": {},
          "execution_count": 16
        }
      ]
    },
    {
      "cell_type": "code",
      "source": [
        "predicted = model.predict(Xtest)\n",
        "predicted"
      ],
      "metadata": {
        "colab": {
          "base_uri": "https://localhost:8080/"
        },
        "id": "PilNVCG_hV6O",
        "outputId": "3432c11e-3d79-4c9b-cbae-61bf68d91326"
      },
      "execution_count": null,
      "outputs": [
        {
          "output_type": "execute_result",
          "data": {
            "text/plain": [
              "array([1, 1, 1, 1, 1, 1, 1, 0, 1, 0, 1, 0, 1, 1, 1, 0, 1, 0, 0, 0, 0, 1,\n",
              "       1, 0, 1, 0, 0, 0, 0, 1, 0, 0, 0, 1, 1, 0, 1, 1, 1, 0, 0, 1, 0, 1,\n",
              "       0, 0, 0, 1, 1, 1])"
            ]
          },
          "metadata": {},
          "execution_count": 17
        }
      ]
    },
    {
      "cell_type": "markdown",
      "source": [
        "Ocen dokladnosc klasyfikatora\n"
      ],
      "metadata": {
        "id": "3KJFMXwemusJ"
      }
    },
    {
      "cell_type": "code",
      "source": [
        "metrics.accuracy_score(ytest, predicted)"
      ],
      "metadata": {
        "colab": {
          "base_uri": "https://localhost:8080/"
        },
        "id": "0rc4-d6RhmyA",
        "outputId": "e6039701-cd8a-455d-e27f-336339c7730a"
      },
      "execution_count": null,
      "outputs": [
        {
          "output_type": "execute_result",
          "data": {
            "text/plain": [
              "0.78"
            ]
          },
          "metadata": {},
          "execution_count": 18
        }
      ]
    },
    {
      "cell_type": "markdown",
      "source": [
        "Wykres zależności accuracy od k, dzięki temu możemy wybrać k dla którego model ma najlepsze wyniki "
      ],
      "metadata": {
        "id": "1FwB8QUmmzJE"
      }
    },
    {
      "cell_type": "code",
      "source": [
        "values = []\n",
        "for k in range(1,100):\n",
        "    modelk = knn(k)\n",
        "    modelk.fit(Xtrain, ytrain)\n",
        "    predicted = modelk.predict(Xtest)\n",
        "    values.append(metrics.accuracy_score(ytest, predicted))\n",
        "print(values)\n",
        "\n",
        "plt.plot(values)"
      ],
      "metadata": {
        "colab": {
          "base_uri": "https://localhost:8080/",
          "height": 319
        },
        "id": "1bgzcqEDigde",
        "outputId": "2d8d207e-75ab-434b-f242-c9268968c8ef"
      },
      "execution_count": null,
      "outputs": [
        {
          "output_type": "stream",
          "name": "stdout",
          "text": [
            "[0.66, 0.6, 0.74, 0.62, 0.66, 0.66, 0.72, 0.68, 0.68, 0.64, 0.66, 0.7, 0.72, 0.72, 0.68, 0.7, 0.7, 0.72, 0.72, 0.72, 0.7, 0.74, 0.74, 0.74, 0.76, 0.74, 0.74, 0.78, 0.7, 0.74, 0.68, 0.72, 0.72, 0.72, 0.72, 0.72, 0.72, 0.74, 0.74, 0.74, 0.74, 0.76, 0.72, 0.72, 0.74, 0.74, 0.74, 0.72, 0.72, 0.72, 0.72, 0.72, 0.68, 0.72, 0.72, 0.76, 0.76, 0.76, 0.74, 0.72, 0.72, 0.72, 0.72, 0.72, 0.72, 0.72, 0.72, 0.72, 0.72, 0.74, 0.72, 0.72, 0.72, 0.72, 0.72, 0.72, 0.72, 0.72, 0.72, 0.7, 0.7, 0.7, 0.7, 0.7, 0.7, 0.7, 0.7, 0.68, 0.68, 0.68, 0.68, 0.68, 0.68, 0.68, 0.68, 0.68, 0.68, 0.68, 0.68]\n"
          ]
        },
        {
          "output_type": "execute_result",
          "data": {
            "text/plain": [
              "[<matplotlib.lines.Line2D at 0x7f6759d27d50>]"
            ]
          },
          "metadata": {},
          "execution_count": 32
        },
        {
          "output_type": "display_data",
          "data": {
            "text/plain": [
              "<Figure size 432x288 with 1 Axes>"
            ],
            "image/png": "[encoded data removed]"
          },
          "metadata": {
            "needs_background": "light"
          }
        }
      ]
    },
    {
      "cell_type": "markdown",
      "source": [
        "Regresja logistyczna wypada lepiej nie zależnei od wartości k w modelu knn"
      ],
      "metadata": {
        "id": "pzzICa2hIeR2"
      }
    },
    {
      "cell_type": "markdown",
      "source": [
        "# Skalowanie atryburów "
      ],
      "metadata": {
        "id": "MawqnCjmXJF7"
      }
    },
    {
      "cell_type": "code",
      "source": [
        "scaler = StandardScaler().fit(Xtrain)\n",
        "XtrainScaled = scaler.transform(Xtrain)\n",
        "\n",
        "dfts = pd.DataFrame(XtrainScaled)\n",
        "print(dfts.mean())\n",
        "print(dfts.std())"
      ],
      "metadata": {
        "colab": {
          "base_uri": "https://localhost:8080/"
        },
        "id": "nrvVo32yXOiH",
        "outputId": "95a6da14-8532-4de5-af1f-7ff5237e68cf"
      },
      "execution_count": null,
      "outputs": [
        {
          "output_type": "stream",
          "name": "stdout",
          "text": [
            "0    -2.808469e-16\n",
            "1    -1.018070e-16\n",
            "2     1.404235e-17\n",
            "3     7.021173e-18\n",
            "4     9.478584e-17\n",
            "5    -6.670115e-17\n",
            "6     4.914821e-17\n",
            "7    -5.950444e-16\n",
            "8     2.457411e-17\n",
            "9     3.686116e-17\n",
            "10    1.298917e-16\n",
            "11    2.457411e-17\n",
            "12   -2.808469e-17\n",
            "dtype: float64\n",
            "0     1.001982\n",
            "1     1.001982\n",
            "2     1.001982\n",
            "3     1.001982\n",
            "4     1.001982\n",
            "5     1.001982\n",
            "6     1.001982\n",
            "7     1.001982\n",
            "8     1.001982\n",
            "9     1.001982\n",
            "10    1.001982\n",
            "11    1.001982\n",
            "12    1.001982\n",
            "dtype: float64\n"
          ]
        }
      ]
    },
    {
      "cell_type": "markdown",
      "source": [
        "Atrybuty znormalizowane"
      ],
      "metadata": {
        "id": "uCy000flJIPv"
      }
    },
    {
      "cell_type": "markdown",
      "source": [
        "skalowanie danych testowych "
      ],
      "metadata": {
        "id": "Fm26eMDInHoW"
      }
    },
    {
      "cell_type": "code",
      "source": [
        "XtestScaled = scaler.transform(Xtest)\n",
        "\n",
        "dftstest = pd.DataFrame(XtestScaled)\n",
        "print(dftstest.mean())\n",
        "print(dftstest.std())"
      ],
      "metadata": {
        "colab": {
          "base_uri": "https://localhost:8080/"
        },
        "id": "12WGwWSEbDZV",
        "outputId": "24535cd1-4b5a-44b8-dba7-2df5bee7cf59"
      },
      "execution_count": null,
      "outputs": [
        {
          "output_type": "stream",
          "name": "stdout",
          "text": [
            "0    -0.081297\n",
            "1    -0.008160\n",
            "2    -0.124746\n",
            "3    -0.124718\n",
            "4     0.371444\n",
            "5    -0.284900\n",
            "6     0.252656\n",
            "7    -0.128887\n",
            "8     0.241883\n",
            "9    -0.048364\n",
            "10    0.001266\n",
            "11   -0.033604\n",
            "12    0.052019\n",
            "dtype: float64\n",
            "0     0.895809\n",
            "1     1.013372\n",
            "2     1.022146\n",
            "3     0.704166\n",
            "4     1.306920\n",
            "5     0.644735\n",
            "6     0.913741\n",
            "7     1.086821\n",
            "8     1.079642\n",
            "9     0.902144\n",
            "10    0.914972\n",
            "11    0.846743\n",
            "12    1.027743\n",
            "dtype: float64\n"
          ]
        }
      ]
    },
    {
      "cell_type": "markdown",
      "source": [
        "Statystyki zdecydowanie mniej idealne, jako że zostały przeskalowane na podstawie train "
      ],
      "metadata": {
        "id": "xdLICjLeJSdw"
      }
    },
    {
      "cell_type": "markdown",
      "source": [
        "regresja logistyczna i macierz omyłek dla przeskalowanych danych"
      ],
      "metadata": {
        "id": "LEF2uCFu01_O"
      }
    },
    {
      "cell_type": "code",
      "source": [
        "log_reg.fit(XtrainScaled,ytrain)\n",
        "\n",
        "ypredScaled = log_reg.predict(XtestScaled)\n",
        "\n",
        "conf_mat = confusion_matrix(ytest,ypred)\n",
        "conf_mat"
      ],
      "metadata": {
        "colab": {
          "base_uri": "https://localhost:8080/"
        },
        "id": "7g27Cex9J1_d",
        "outputId": "43f1b0d2-c906-4b37-f504-796bc6a2966e"
      },
      "execution_count": null,
      "outputs": [
        {
          "output_type": "execute_result",
          "data": {
            "text/plain": [
              "array([[20,  4],\n",
              "       [ 3, 23]])"
            ]
          },
          "metadata": {},
          "execution_count": 22
        }
      ]
    },
    {
      "cell_type": "markdown",
      "source": [
        "dokładność dla regresji liniowej dla przeskalowanych danych "
      ],
      "metadata": {
        "id": "CtyCI9jo1HnY"
      }
    },
    {
      "cell_type": "code",
      "source": [
        "accuracy = accuracy_score(ytest,ypredScaled)\n",
        "accuracy"
      ],
      "metadata": {
        "colab": {
          "base_uri": "https://localhost:8080/"
        },
        "id": "3wACjl7LKZcn",
        "outputId": "ec0040fd-5e03-4620-883d-5c4c0dc302b0"
      },
      "execution_count": null,
      "outputs": [
        {
          "output_type": "execute_result",
          "data": {
            "text/plain": [
              "0.86"
            ]
          },
          "metadata": {},
          "execution_count": 23
        }
      ]
    },
    {
      "cell_type": "markdown",
      "source": [
        "wykres zależności accuracy od k dla przeskalowanych danych "
      ],
      "metadata": {
        "id": "lXlE5xIV1PvJ"
      }
    },
    {
      "cell_type": "code",
      "source": [
        "valuesScaled = []\n",
        "for k in range(1,100):\n",
        "    modelk = knn(k)\n",
        "    modelk.fit(XtrainScaled, ytrain)\n",
        "    predictedScaled = modelk.predict(XtestScaled)\n",
        "    valuesScaled.append(metrics.accuracy_score(ytest, predictedScaled))\n",
        "print(valuesScaled)\n",
        "\n",
        "plt.plot(valuesScaled)"
      ],
      "metadata": {
        "colab": {
          "base_uri": "https://localhost:8080/",
          "height": 319
        },
        "id": "aA3koDBzMCHD",
        "outputId": "65efd2a6-b762-49c6-ef18-cdf2bf54c3c0"
      },
      "execution_count": null,
      "outputs": [
        {
          "output_type": "stream",
          "name": "stdout",
          "text": [
            "[0.78, 0.76, 0.84, 0.8, 0.76, 0.8, 0.8, 0.82, 0.82, 0.8, 0.82, 0.8, 0.82, 0.82, 0.84, 0.84, 0.86, 0.82, 0.84, 0.82, 0.82, 0.82, 0.86, 0.86, 0.86, 0.86, 0.86, 0.86, 0.86, 0.86, 0.86, 0.86, 0.86, 0.86, 0.86, 0.88, 0.86, 0.88, 0.86, 0.86, 0.86, 0.88, 0.86, 0.86, 0.86, 0.86, 0.84, 0.84, 0.86, 0.84, 0.86, 0.84, 0.86, 0.84, 0.84, 0.86, 0.86, 0.86, 0.86, 0.86, 0.84, 0.86, 0.86, 0.86, 0.86, 0.86, 0.86, 0.86, 0.86, 0.86, 0.84, 0.84, 0.84, 0.84, 0.84, 0.84, 0.84, 0.84, 0.84, 0.84, 0.86, 0.84, 0.84, 0.84, 0.84, 0.84, 0.84, 0.84, 0.82, 0.84, 0.82, 0.84, 0.84, 0.84, 0.8, 0.8, 0.8, 0.8, 0.8]\n"
          ]
        },
        {
          "output_type": "execute_result",
          "data": {
            "text/plain": [
              "[<matplotlib.lines.Line2D at 0x7f675e3848d0>]"
            ]
          },
          "metadata": {},
          "execution_count": 24
        },
        {
          "output_type": "display_data",
          "data": {
            "text/plain": [
              "<Figure size 432x288 with 1 Axes>"
            ],
            "image/png": "[encoded data removed]"
          },
          "metadata": {
            "needs_background": "light"
          }
        }
      ]
    },
    {
      "cell_type": "markdown",
      "source": [
        "Prz przeskalowanych danych dokładność regresji logistycznej (0.86) nie jest już tak dużó lepsza od modelu knn jak przy danych nie przeskalowanych. Przy przeskalowanych dokładność modelu knn dochodzi do 0.88"
      ],
      "metadata": {
        "id": "c7G5ZvpZKHqo"
      }
    },
    {
      "cell_type": "markdown",
      "source": [
        "Porównanie modelu knn dla danych przeskalowanych i oryginalnych "
      ],
      "metadata": {
        "id": "n0O2BT8V4j7Y"
      }
    },
    {
      "cell_type": "code",
      "source": [
        "plt.plot(values)\n",
        "plt.plot(valuesScaled)\n",
        "plt.legend([\"not scaled\", \"scaled\"]);"
      ],
      "metadata": {
        "colab": {
          "base_uri": "https://localhost:8080/",
          "height": 265
        },
        "id": "lC1bTBZ32IxP",
        "outputId": "4eba1bf9-925e-40e2-80d5-d6c87a7a77f6"
      },
      "execution_count": null,
      "outputs": [
        {
          "output_type": "display_data",
          "data": {
            "text/plain": [
              "<Figure size 432x288 with 1 Axes>"
            ],
            "image/png": "[encoded data removed]"
          },
          "metadata": {
            "needs_background": "light"
          }
        }
      ]
    },
    {
      "cell_type": "markdown",
      "source": [
        "Model ma większą dokładność przy danych skalowanych średnio o ponad 10 punktów procentowych"
      ],
      "metadata": {
        "id": "7Rhdxara59WO"
      }
    }
  ]
}